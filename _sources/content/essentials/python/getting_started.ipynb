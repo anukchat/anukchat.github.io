{
 "cells": [
  {
   "cell_type": "markdown",
   "metadata": {},
   "source": [
    "## Getting Started with Python\n",
    "\n",
    "With Python you can do pretty much do anything, you can automate every task. Its simpler to learn and use than any other language without much jargons.\n",
    "\n",
    "Python also offers much more error checking than C, and, being a very-high-level language, it has high-level data types built in, such as flexible arrays and dictionaries. Because of its more general data types Python is applicable to a much larger problem domain than Awk or even Perl, yet many things are at least as easy in Python as in those languages.\n",
    "\n",
    "Python allows you to split your program into modules that can be reused in other Python programs. It comes with a large collection of standard modules that you can use as the basis of your programs — or as examples to start learning to program in Python. Some of these modules provide things like file I/O, system calls, sockets, and even interfaces to graphical user interface toolkits like Tk.\n",
    "Python is an interpreted language, which can save you considerable time during program development because no compilation and linking is necessary. \n",
    "\n",
    "The interpreter can be used interactively, which makes it easy to experiment with features of the language, to write throw-away programs, or to test functions during bottom-up program development. It is also a handy desk calculator.\n"
   ]
  },
  {
   "cell_type": "markdown",
   "metadata": {},
   "source": [
    "### Python Installation\n",
    "\n",
    "To install python, go to the website: https://www.python.org/downloads/ and install latest version, depending on your OS.\n",
    "\n",
    "** Make sure during installation, to check the checkbox to add the Python referenc in Environment variable Path\n",
    "\n",
    "\n",
    "Once installation is done, you can check the Python version by running command to check installation is successfull\n",
    "\n",
    "> ```bash \n",
    "> python --version\n",
    ">```\n",
    "\n",
    "To use python interactively, you can directly type python in command line and insrantly start , experiment by typing python\n",
    "\n",
    ">```bash\n",
    ">python\n",
    ">```"
   ]
  },
  {
   "cell_type": "markdown",
   "metadata": {},
   "source": [
    "### Using a code editor of your choice\n",
    "\n",
    "To write Python code or any code, you could use PyCharm or VSCode, in this tutorial I will use VSCode which has simple and intiuitive UI , you can download from https://code.visualstudio.com/ \n",
    "\n",
    "VSCode offers many features, you can also install many extensions including extensions required to run Jupyter notebooks"
   ]
  },
  {
   "cell_type": "markdown",
   "metadata": {},
   "source": [
    "### Using python in a jupyter notebook\n",
    "\n",
    "Jupyter notebook is an interactive way to write your code for experimentation purposes, This tutorial is also written in Jupyter Notebook. (Learn more about it https://jupyter.org/)\n",
    "\n",
    "- Jupyter notebook has file extension .ipynb (interactive python notebook)\n",
    "- You can write markdown content as well as write and execute Python code"
   ]
  },
  {
   "cell_type": "markdown",
   "metadata": {},
   "source": [
    "### Package manager and virtual environment\n",
    "\n",
    "- To install third party python modules/packages, you can use **pip** as package manager, there are other ways to install python packages like poetry, conda etc..\n",
    "\n",
    "Example:\n",
    "> ```bash \n",
    "> pip install virtualenv \n",
    ">```\n",
    "\n",
    "- It's always recommended to isolate various development environments/projects from your machine by installing and working on a virtual environment. To isolate, you can create a virtual environment in python and install all the packages inside it , instead of directly installing them in your machine.\n",
    "\n",
    "> ```bash \n",
    "> # 1. Install virtualenv package\n",
    "> pip install virtualenv \n",
    "> # 2. Create virtual env\n",
    "> virtualenv venv\n",
    "> # 3. Activate\n",
    "> venv\\Scripts\\activate\n",
    ">```"
   ]
  },
  {
   "cell_type": "markdown",
   "metadata": {},
   "source": [
    "### Informal introduction to python: using python as calculator\n",
    "\n",
    "Open your command line and type Python\n",
    "\n",
    ">```python\n",
    ">>python\n",
    ">\n",
    ">Python 3.12.1 (tags/v3.12.1:2305ca5, Dec  7 2023, 22:03:25) [MSC v.1937 64 bit (AMD64)] on win32\n",
    ">Type \"help\", \"copyright\", \"credits\" or \"license\" for more information.\n",
    ">>>> 100 + 56\n",
    ">156\n",
    ">>>>\n",
    ">```\n",
    "\n",
    "As you saw above, it can act as a calculator, you can run python in any command line directly (interactive mode), there is no need to compile the code. That is how simple python is.\n",
    "\n",
    "You can also operate on strings and lists\n",
    "\n",
    ">```python\n",
    ">>>> 'Hello' + ' World!'\n",
    ">'Hello World!'\n",
    ">>>>\n",
    ">>>> x=[1,2,3,4,5] \n",
    ">>> x.append(8)\n",
    ">>> x\n",
    ">[1, 2, 3, 4, 5, 8]\n",
    ">>>\n",
    ">```"
   ]
  },
  {
   "cell_type": "markdown",
   "metadata": {},
   "source": [
    "### Using Python inside Jupyter notebook\n",
    "\n",
    "There are two ways to use jupyter notebooks\n",
    "1. Inside VSCode\n",
    "2. Running notebook from command line\n",
    "\n",
    "If you are in VSCode, launch VSCode, add a folder and add a file with extension .ipynb, opem that file , you will be asked to chose interpreter, select python installed on your virtual environment. You can change the interpreter by running Ctrl + Shift + P and select interpreter. You may also recieve a notification to install jupyter kernel, install that if asked.\n",
    "\n",
    "To run jupyter notebook from command line, \n",
    "1. Install jupyter notebook package\n",
    ">```bash\n",
    ">pip install jupyter\n",
    ">```\n",
    "2. Create a folder structure where you will store all your progress and within that folder, run:\n",
    ">```bash\n",
    ">jupyter notebook\n",
    ">```\n",
    "A new window would be launched in your browser, click on New to create a notebook and rename it for your reference\n",
    "\n",
    "> Notebooks in these course are designed to run interactively on binder, click on the Binder icon, to open the notebook for execution in binder\n"
   ]
  },
  {
   "cell_type": "code",
   "execution_count": 3,
   "metadata": {},
   "outputs": [
    {
     "name": "stdout",
     "output_type": "stream",
     "text": [
      "[1, 2, 3, 4]\n"
     ]
    }
   ],
   "source": [
    "# 1st Execution\n",
    "x=[1,2,3,4]\n",
    "print(x)"
   ]
  },
  {
   "cell_type": "markdown",
   "metadata": {},
   "source": [
    "!python"
   ]
  },
  {
   "cell_type": "markdown",
   "metadata": {},
   "source": []
  },
  {
   "cell_type": "code",
   "execution_count": null,
   "metadata": {},
   "outputs": [],
   "source": []
  },
  {
   "cell_type": "code",
   "execution_count": null,
   "metadata": {},
   "outputs": [],
   "source": []
  },
  {
   "cell_type": "code",
   "execution_count": null,
   "metadata": {},
   "outputs": [],
   "source": []
  }
 ],
 "metadata": {
  "kernelspec": {
   "display_name": "Python 3",
   "language": "python",
   "name": "python3"
  },
  "language_info": {
   "codemirror_mode": {
    "name": "ipython",
    "version": 3
   },
   "file_extension": ".py",
   "mimetype": "text/x-python",
   "name": "python",
   "nbconvert_exporter": "python",
   "pygments_lexer": "ipython3",
   "version": "3.9.10"
  }
 },
 "nbformat": 4,
 "nbformat_minor": 2
}
